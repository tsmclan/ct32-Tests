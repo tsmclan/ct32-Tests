{
 "cells": [
  {
   "metadata": {},
   "cell_type": "markdown",
   "source": [
    "[![Binder](https://mybinder.org/badge_logo.svg)](https://mybinder.org/v2/gh/tsmclan/ct32-Tests.git/HEAD)\n",
    "* [How to Execute Jupyter Notebooks from GitHub](https://soshnikov.com/education/how-to-execute-notebooks-from-github/)\n",
    "* Build [MyBinder.org](https://mybinder.org/) and launch a repository for https://github.com/tsmclan/ct32-Tests.git\n",
    "\n",
    "⚠️要求⚠️每个人提交：\n",
    "1. Markdown单元格，写下你的名字和学号，规定以标题1写下“# 姓名+学号后四位”，如“# 张三0596”；\n",
    "2. 代码单元格，写下你的python代码。"
   ],
   "id": "46b8aabf7d7b9e0e"
  },
  {
   "metadata": {},
   "cell_type": "markdown",
   "source": "# 张三0596\n",
   "id": "7ed49618859ac3cf"
  },
  {
   "metadata": {},
   "cell_type": "code",
   "outputs": [],
   "execution_count": null,
   "source": "",
   "id": "1c9a8fd1d4384b65"
  }
 ],
 "metadata": {
  "kernelspec": {
   "display_name": "Python 3",
   "language": "python",
   "name": "python3"
  },
  "language_info": {
   "codemirror_mode": {
    "name": "ipython",
    "version": 2
   },
   "file_extension": ".py",
   "mimetype": "text/x-python",
   "name": "python",
   "nbconvert_exporter": "python",
   "pygments_lexer": "ipython2",
   "version": "2.7.6"
  }
 },
 "nbformat": 4,
 "nbformat_minor": 5
}
